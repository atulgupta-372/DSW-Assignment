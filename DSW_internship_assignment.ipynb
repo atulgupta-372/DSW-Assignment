{
  "nbformat": 4,
  "nbformat_minor": 0,
  "metadata": {
    "colab": {
      "provenance": []
    },
    "kernelspec": {
      "name": "python3",
      "display_name": "Python 3"
    },
    "language_info": {
      "name": "python"
    }
  },
  "cells": [
    {
      "cell_type": "code",
      "execution_count": null,
      "metadata": {
        "id": "NQLnhNTRI9Y4"
      },
      "outputs": [],
      "source": [
        "import pandas as pd\n",
        "import numpy as np\n",
        "import matplotlib.pyplot as plt\n",
        "import seaborn as sns\n",
        "from sklearn.model_selection import train_test_split, GridSearchCV\n",
        "from sklearn.preprocessing import StandardScaler, LabelEncoder\n",
        "from sklearn.ensemble import RandomForestClassifier\n",
        "from sklearn.metrics import classification_report, confusion_matrix, roc_auc_score, roc_curve\n",
        "from imblearn.over_sampling import SMOTE"
      ]
    },
    {
      "cell_type": "code",
      "source": [
        "# Step 1: Load Data\n",
        "# Replace with the correct file paths\n",
        "train_file = '/content/sample_data/data/test_data.xlsx'\n",
        "test_file = '/content/sample_data/data/train_data.xlsx'\n",
        "\n",
        "train_data = pd.read_excel(train_file)\n",
        "test_data = pd.read_excel(test_file)"
      ],
      "metadata": {
        "id": "8T4VRhGTJG23"
      },
      "execution_count": null,
      "outputs": []
    },
    {
      "cell_type": "code",
      "source": [
        "# Step 2: Exploratory Data Analysis (EDA)\n",
        "# Basic Info\n",
        "print(\"Training Data Overview:\")\n",
        "print(train_data.info())\n",
        "print(\"\\nTest Data Overview:\")\n",
        "print(test_data.info())"
      ],
      "metadata": {
        "colab": {
          "base_uri": "https://localhost:8080/"
        },
        "id": "TtIr4sE-JG7H",
        "outputId": "0502b719-717e-4a42-e2ae-f8bd8239279b"
      },
      "execution_count": null,
      "outputs": [
        {
          "output_type": "stream",
          "name": "stdout",
          "text": [
            "Training Data Overview:\n",
            "<class 'pandas.core.frame.DataFrame'>\n",
            "RangeIndex: 8455 entries, 0 to 8454\n",
            "Data columns (total 17 columns):\n",
            " #   Column               Non-Null Count  Dtype         \n",
            "---  ------               --------------  -----         \n",
            " 0   customer_id          8455 non-null   int64         \n",
            " 1   transaction_date     8455 non-null   datetime64[ns]\n",
            " 2   sub_grade            8455 non-null   object        \n",
            " 3   term                 8455 non-null   object        \n",
            " 4   home_ownership       8455 non-null   object        \n",
            " 5   cibil_score          8455 non-null   int64         \n",
            " 6   total_no_of_acc      8455 non-null   int64         \n",
            " 7   annual_inc           8455 non-null   float64       \n",
            " 8   int_rate             8455 non-null   float64       \n",
            " 9   purpose              8455 non-null   object        \n",
            " 10  loan_amnt            8455 non-null   int64         \n",
            " 11  application_type     8455 non-null   object        \n",
            " 12  installment          8455 non-null   float64       \n",
            " 13  verification_status  8455 non-null   object        \n",
            " 14  account_bal          8455 non-null   int64         \n",
            " 15  emp_length           8455 non-null   int64         \n",
            " 16  loan_status          8455 non-null   int64         \n",
            "dtypes: datetime64[ns](1), float64(3), int64(7), object(6)\n",
            "memory usage: 1.1+ MB\n",
            "None\n",
            "\n",
            "Test Data Overview:\n",
            "<class 'pandas.core.frame.DataFrame'>\n",
            "RangeIndex: 113705 entries, 0 to 113704\n",
            "Data columns (total 17 columns):\n",
            " #   Column               Non-Null Count   Dtype         \n",
            "---  ------               --------------   -----         \n",
            " 0   customer_id          113705 non-null  int64         \n",
            " 1   transaction_date     113705 non-null  datetime64[ns]\n",
            " 2   sub_grade            113705 non-null  object        \n",
            " 3   term                 113705 non-null  object        \n",
            " 4   home_ownership       113705 non-null  object        \n",
            " 5   cibil_score          113705 non-null  int64         \n",
            " 6   total_no_of_acc      113705 non-null  int64         \n",
            " 7   annual_inc           113705 non-null  float64       \n",
            " 8   int_rate             113705 non-null  float64       \n",
            " 9   purpose              113705 non-null  object        \n",
            " 10  loan_amnt            113705 non-null  int64         \n",
            " 11  application_type     113705 non-null  object        \n",
            " 12  installment          113705 non-null  float64       \n",
            " 13  verification_status  113705 non-null  object        \n",
            " 14  account_bal          113705 non-null  int64         \n",
            " 15  emp_length           113705 non-null  int64         \n",
            " 16  loan_status          113705 non-null  int64         \n",
            "dtypes: datetime64[ns](1), float64(3), int64(7), object(6)\n",
            "memory usage: 14.7+ MB\n",
            "None\n"
          ]
        }
      ]
    },
    {
      "cell_type": "code",
      "source": [
        "# Checking for missing values\n",
        "print(\"\\nMissing Values in Training Data:\")\n",
        "print(train_data.isnull().sum())"
      ],
      "metadata": {
        "colab": {
          "base_uri": "https://localhost:8080/"
        },
        "id": "vJj2cxj2JUC7",
        "outputId": "26e5becd-99a6-44b9-dcaa-cf2e4c0bcad0"
      },
      "execution_count": null,
      "outputs": [
        {
          "output_type": "stream",
          "name": "stdout",
          "text": [
            "\n",
            "Missing Values in Training Data:\n",
            "customer_id            0\n",
            "transaction_date       0\n",
            "sub_grade              0\n",
            "term                   0\n",
            "home_ownership         0\n",
            "cibil_score            0\n",
            "total_no_of_acc        0\n",
            "annual_inc             0\n",
            "int_rate               0\n",
            "purpose                0\n",
            "loan_amnt              0\n",
            "application_type       0\n",
            "installment            0\n",
            "verification_status    0\n",
            "account_bal            0\n",
            "emp_length             0\n",
            "loan_status            0\n",
            "dtype: int64\n"
          ]
        }
      ]
    },
    {
      "cell_type": "code",
      "source": [
        "sns.countplot(x='Target', data=train_data)\n",
        "plt.title('Target Variable Distribution')\n",
        "plt.show()"
      ],
      "metadata": {
        "colab": {
          "base_uri": "https://localhost:8080/",
          "height": 390
        },
        "id": "WNegnsYEJUGK",
        "outputId": "544f74a4-9ba8-45e2-90db-9b418be279f1"
      },
      "execution_count": null,
      "outputs": [
        {
          "output_type": "error",
          "ename": "ValueError",
          "evalue": "Could not interpret value `Target` for `x`. An entry with this name does not appear in `data`.",
          "traceback": [
            "\u001b[0;31m---------------------------------------------------------------------------\u001b[0m",
            "\u001b[0;31mValueError\u001b[0m                                Traceback (most recent call last)",
            "\u001b[0;32m<ipython-input-6-7406df289c64>\u001b[0m in \u001b[0;36m<cell line: 1>\u001b[0;34m()\u001b[0m\n\u001b[0;32m----> 1\u001b[0;31m \u001b[0msns\u001b[0m\u001b[0;34m.\u001b[0m\u001b[0mcountplot\u001b[0m\u001b[0;34m(\u001b[0m\u001b[0mx\u001b[0m\u001b[0;34m=\u001b[0m\u001b[0;34m'Target'\u001b[0m\u001b[0;34m,\u001b[0m \u001b[0mdata\u001b[0m\u001b[0;34m=\u001b[0m\u001b[0mtrain_data\u001b[0m\u001b[0;34m)\u001b[0m\u001b[0;34m\u001b[0m\u001b[0;34m\u001b[0m\u001b[0m\n\u001b[0m\u001b[1;32m      2\u001b[0m \u001b[0mplt\u001b[0m\u001b[0;34m.\u001b[0m\u001b[0mtitle\u001b[0m\u001b[0;34m(\u001b[0m\u001b[0;34m'Target Variable Distribution'\u001b[0m\u001b[0;34m)\u001b[0m\u001b[0;34m\u001b[0m\u001b[0;34m\u001b[0m\u001b[0m\n\u001b[1;32m      3\u001b[0m \u001b[0mplt\u001b[0m\u001b[0;34m.\u001b[0m\u001b[0mshow\u001b[0m\u001b[0;34m(\u001b[0m\u001b[0;34m)\u001b[0m\u001b[0;34m\u001b[0m\u001b[0;34m\u001b[0m\u001b[0m\n",
            "\u001b[0;32m/usr/local/lib/python3.10/dist-packages/seaborn/categorical.py\u001b[0m in \u001b[0;36mcountplot\u001b[0;34m(data, x, y, hue, order, hue_order, orient, color, palette, saturation, fill, hue_norm, stat, width, dodge, gap, log_scale, native_scale, formatter, legend, ax, **kwargs)\u001b[0m\n\u001b[1;32m   2629\u001b[0m         \u001b[0;32mraise\u001b[0m \u001b[0mTypeError\u001b[0m\u001b[0;34m(\u001b[0m\u001b[0;34m\"Cannot pass values for both `x` and `y`.\"\u001b[0m\u001b[0;34m)\u001b[0m\u001b[0;34m\u001b[0m\u001b[0;34m\u001b[0m\u001b[0m\n\u001b[1;32m   2630\u001b[0m \u001b[0;34m\u001b[0m\u001b[0m\n\u001b[0;32m-> 2631\u001b[0;31m     p = _CategoricalAggPlotter(\n\u001b[0m\u001b[1;32m   2632\u001b[0m         \u001b[0mdata\u001b[0m\u001b[0;34m=\u001b[0m\u001b[0mdata\u001b[0m\u001b[0;34m,\u001b[0m\u001b[0;34m\u001b[0m\u001b[0;34m\u001b[0m\u001b[0m\n\u001b[1;32m   2633\u001b[0m         \u001b[0mvariables\u001b[0m\u001b[0;34m=\u001b[0m\u001b[0mdict\u001b[0m\u001b[0;34m(\u001b[0m\u001b[0mx\u001b[0m\u001b[0;34m=\u001b[0m\u001b[0mx\u001b[0m\u001b[0;34m,\u001b[0m \u001b[0my\u001b[0m\u001b[0;34m=\u001b[0m\u001b[0my\u001b[0m\u001b[0;34m,\u001b[0m \u001b[0mhue\u001b[0m\u001b[0;34m=\u001b[0m\u001b[0mhue\u001b[0m\u001b[0;34m)\u001b[0m\u001b[0;34m,\u001b[0m\u001b[0;34m\u001b[0m\u001b[0;34m\u001b[0m\u001b[0m\n",
            "\u001b[0;32m/usr/local/lib/python3.10/dist-packages/seaborn/categorical.py\u001b[0m in \u001b[0;36m__init__\u001b[0;34m(self, data, variables, order, orient, require_numeric, color, legend)\u001b[0m\n\u001b[1;32m     65\u001b[0m     ):\n\u001b[1;32m     66\u001b[0m \u001b[0;34m\u001b[0m\u001b[0m\n\u001b[0;32m---> 67\u001b[0;31m         \u001b[0msuper\u001b[0m\u001b[0;34m(\u001b[0m\u001b[0;34m)\u001b[0m\u001b[0;34m.\u001b[0m\u001b[0m__init__\u001b[0m\u001b[0;34m(\u001b[0m\u001b[0mdata\u001b[0m\u001b[0;34m=\u001b[0m\u001b[0mdata\u001b[0m\u001b[0;34m,\u001b[0m \u001b[0mvariables\u001b[0m\u001b[0;34m=\u001b[0m\u001b[0mvariables\u001b[0m\u001b[0;34m)\u001b[0m\u001b[0;34m\u001b[0m\u001b[0;34m\u001b[0m\u001b[0m\n\u001b[0m\u001b[1;32m     68\u001b[0m \u001b[0;34m\u001b[0m\u001b[0m\n\u001b[1;32m     69\u001b[0m         \u001b[0;31m# This method takes care of some bookkeeping that is necessary because the\u001b[0m\u001b[0;34m\u001b[0m\u001b[0;34m\u001b[0m\u001b[0m\n",
            "\u001b[0;32m/usr/local/lib/python3.10/dist-packages/seaborn/_base.py\u001b[0m in \u001b[0;36m__init__\u001b[0;34m(self, data, variables)\u001b[0m\n\u001b[1;32m    632\u001b[0m         \u001b[0;31m# information for numeric axes would be information about log scales.\u001b[0m\u001b[0;34m\u001b[0m\u001b[0;34m\u001b[0m\u001b[0m\n\u001b[1;32m    633\u001b[0m         \u001b[0mself\u001b[0m\u001b[0;34m.\u001b[0m\u001b[0m_var_ordered\u001b[0m \u001b[0;34m=\u001b[0m \u001b[0;34m{\u001b[0m\u001b[0;34m\"x\"\u001b[0m\u001b[0;34m:\u001b[0m \u001b[0;32mFalse\u001b[0m\u001b[0;34m,\u001b[0m \u001b[0;34m\"y\"\u001b[0m\u001b[0;34m:\u001b[0m \u001b[0;32mFalse\u001b[0m\u001b[0;34m}\u001b[0m  \u001b[0;31m# alt., used DefaultDict\u001b[0m\u001b[0;34m\u001b[0m\u001b[0;34m\u001b[0m\u001b[0m\n\u001b[0;32m--> 634\u001b[0;31m         \u001b[0mself\u001b[0m\u001b[0;34m.\u001b[0m\u001b[0massign_variables\u001b[0m\u001b[0;34m(\u001b[0m\u001b[0mdata\u001b[0m\u001b[0;34m,\u001b[0m \u001b[0mvariables\u001b[0m\u001b[0;34m)\u001b[0m\u001b[0;34m\u001b[0m\u001b[0;34m\u001b[0m\u001b[0m\n\u001b[0m\u001b[1;32m    635\u001b[0m \u001b[0;34m\u001b[0m\u001b[0m\n\u001b[1;32m    636\u001b[0m         \u001b[0;31m# TODO Lots of tests assume that these are called to initialize the\u001b[0m\u001b[0;34m\u001b[0m\u001b[0;34m\u001b[0m\u001b[0m\n",
            "\u001b[0;32m/usr/local/lib/python3.10/dist-packages/seaborn/_base.py\u001b[0m in \u001b[0;36massign_variables\u001b[0;34m(self, data, variables)\u001b[0m\n\u001b[1;32m    677\u001b[0m             \u001b[0;31m# to centralize / standardize data consumption logic.\u001b[0m\u001b[0;34m\u001b[0m\u001b[0;34m\u001b[0m\u001b[0m\n\u001b[1;32m    678\u001b[0m             \u001b[0mself\u001b[0m\u001b[0;34m.\u001b[0m\u001b[0minput_format\u001b[0m \u001b[0;34m=\u001b[0m \u001b[0;34m\"long\"\u001b[0m\u001b[0;34m\u001b[0m\u001b[0;34m\u001b[0m\u001b[0m\n\u001b[0;32m--> 679\u001b[0;31m             \u001b[0mplot_data\u001b[0m \u001b[0;34m=\u001b[0m \u001b[0mPlotData\u001b[0m\u001b[0;34m(\u001b[0m\u001b[0mdata\u001b[0m\u001b[0;34m,\u001b[0m \u001b[0mvariables\u001b[0m\u001b[0;34m)\u001b[0m\u001b[0;34m\u001b[0m\u001b[0;34m\u001b[0m\u001b[0m\n\u001b[0m\u001b[1;32m    680\u001b[0m             \u001b[0mframe\u001b[0m \u001b[0;34m=\u001b[0m \u001b[0mplot_data\u001b[0m\u001b[0;34m.\u001b[0m\u001b[0mframe\u001b[0m\u001b[0;34m\u001b[0m\u001b[0;34m\u001b[0m\u001b[0m\n\u001b[1;32m    681\u001b[0m             \u001b[0mnames\u001b[0m \u001b[0;34m=\u001b[0m \u001b[0mplot_data\u001b[0m\u001b[0;34m.\u001b[0m\u001b[0mnames\u001b[0m\u001b[0;34m\u001b[0m\u001b[0;34m\u001b[0m\u001b[0m\n",
            "\u001b[0;32m/usr/local/lib/python3.10/dist-packages/seaborn/_core/data.py\u001b[0m in \u001b[0;36m__init__\u001b[0;34m(self, data, variables)\u001b[0m\n\u001b[1;32m     56\u001b[0m \u001b[0;34m\u001b[0m\u001b[0m\n\u001b[1;32m     57\u001b[0m         \u001b[0mdata\u001b[0m \u001b[0;34m=\u001b[0m \u001b[0mhandle_data_source\u001b[0m\u001b[0;34m(\u001b[0m\u001b[0mdata\u001b[0m\u001b[0;34m)\u001b[0m\u001b[0;34m\u001b[0m\u001b[0;34m\u001b[0m\u001b[0m\n\u001b[0;32m---> 58\u001b[0;31m         \u001b[0mframe\u001b[0m\u001b[0;34m,\u001b[0m \u001b[0mnames\u001b[0m\u001b[0;34m,\u001b[0m \u001b[0mids\u001b[0m \u001b[0;34m=\u001b[0m \u001b[0mself\u001b[0m\u001b[0;34m.\u001b[0m\u001b[0m_assign_variables\u001b[0m\u001b[0;34m(\u001b[0m\u001b[0mdata\u001b[0m\u001b[0;34m,\u001b[0m \u001b[0mvariables\u001b[0m\u001b[0;34m)\u001b[0m\u001b[0;34m\u001b[0m\u001b[0;34m\u001b[0m\u001b[0m\n\u001b[0m\u001b[1;32m     59\u001b[0m \u001b[0;34m\u001b[0m\u001b[0m\n\u001b[1;32m     60\u001b[0m         \u001b[0mself\u001b[0m\u001b[0;34m.\u001b[0m\u001b[0mframe\u001b[0m \u001b[0;34m=\u001b[0m \u001b[0mframe\u001b[0m\u001b[0;34m\u001b[0m\u001b[0;34m\u001b[0m\u001b[0m\n",
            "\u001b[0;32m/usr/local/lib/python3.10/dist-packages/seaborn/_core/data.py\u001b[0m in \u001b[0;36m_assign_variables\u001b[0;34m(self, data, variables)\u001b[0m\n\u001b[1;32m    230\u001b[0m                 \u001b[0;32melse\u001b[0m\u001b[0;34m:\u001b[0m\u001b[0;34m\u001b[0m\u001b[0;34m\u001b[0m\u001b[0m\n\u001b[1;32m    231\u001b[0m                     \u001b[0merr\u001b[0m \u001b[0;34m+=\u001b[0m \u001b[0;34m\"An entry with this name does not appear in `data`.\"\u001b[0m\u001b[0;34m\u001b[0m\u001b[0;34m\u001b[0m\u001b[0m\n\u001b[0;32m--> 232\u001b[0;31m                 \u001b[0;32mraise\u001b[0m \u001b[0mValueError\u001b[0m\u001b[0;34m(\u001b[0m\u001b[0merr\u001b[0m\u001b[0;34m)\u001b[0m\u001b[0;34m\u001b[0m\u001b[0;34m\u001b[0m\u001b[0m\n\u001b[0m\u001b[1;32m    233\u001b[0m \u001b[0;34m\u001b[0m\u001b[0m\n\u001b[1;32m    234\u001b[0m             \u001b[0;32melse\u001b[0m\u001b[0;34m:\u001b[0m\u001b[0;34m\u001b[0m\u001b[0;34m\u001b[0m\u001b[0m\n",
            "\u001b[0;31mValueError\u001b[0m: Could not interpret value `Target` for `x`. An entry with this name does not appear in `data`."
          ]
        }
      ]
    },
    {
      "cell_type": "code",
      "source": [
        "# Step 3: Data Preprocessing\n",
        "# Handle missing values\n",
        "train_data.fillna(train_data.median(), inplace=True)\n",
        "test_data.fillna(test_data.median(), inplace=True)\n",
        "\n",
        "# Encode categorical variables\n",
        "categorical_cols = train_data.select_dtypes(include=['object']).columns\n",
        "label_encoders = {}\n",
        "\n",
        "for col in categorical_cols:\n",
        "    le = LabelEncoder()\n",
        "    train_data[col] = le.fit_transform(train_data[col].astype(str))\n",
        "    test_data[col] = le.transform(test_data[col].astype(str))\n",
        "    label_encoders[col] = le\n",
        "\n",
        "# Separate features and target\n",
        "X = train_data.drop(columns=['Target'])\n",
        "y = train_data['Target']"
      ],
      "metadata": {
        "id": "6kq0eadsJUJC"
      },
      "execution_count": null,
      "outputs": []
    },
    {
      "cell_type": "code",
      "source": [
        "# Step 4: Handle class imbalance\n",
        "smote = SMOTE(random_state=42)\n",
        "X_resampled, y_resampled = smote.fit_resample(X, y)"
      ],
      "metadata": {
        "id": "wXzK4_NxJUOC"
      },
      "execution_count": null,
      "outputs": []
    },
    {
      "cell_type": "code",
      "source": [
        "# Step 5: Split data\n",
        "X_train, X_val, y_train, y_val = train_test_split(X_resampled, y_resampled, test_size=0.2, random_state=42)"
      ],
      "metadata": {
        "id": "LuM_wTCvKRuE"
      },
      "execution_count": null,
      "outputs": []
    },
    {
      "cell_type": "code",
      "source": [
        "# Step 6: Feature Scaling\n",
        "scaler = StandardScaler()\n",
        "X_train_scaled = scaler.fit_transform(X_train)\n",
        "X_val_scaled = scaler.transform(X_val)"
      ],
      "metadata": {
        "id": "KQwiMlO3KRxy"
      },
      "execution_count": null,
      "outputs": []
    },
    {
      "cell_type": "code",
      "source": [
        "# Step 7: Model Building\n",
        "rf_model = RandomForestClassifier(random_state=42)\n",
        "rf_model.fit(X_train_scaled, y_train)"
      ],
      "metadata": {
        "id": "nAc_QJjhKR1T"
      },
      "execution_count": null,
      "outputs": []
    },
    {
      "cell_type": "code",
      "source": [
        "val_predictions = rf_model.predict(X_val_scaled)\n",
        "print(\"Classification Report:\\n\", classification_report(y_val, val_predictions))\n"
      ],
      "metadata": {
        "id": "4Ud0ifSPKR4y"
      },
      "execution_count": null,
      "outputs": []
    },
    {
      "cell_type": "code",
      "source": [
        "roc_auc = roc_auc_score(y_val, rf_model.predict_proba(X_val_scaled)[:, 1])\n",
        "print(\"ROC-AUC Score:\", roc_auc)"
      ],
      "metadata": {
        "id": "XNToVbiFKa0W"
      },
      "execution_count": null,
      "outputs": []
    },
    {
      "cell_type": "code",
      "source": [
        "fpr, tpr, _ = roc_curve(y_val, rf_model.predict_proba(X_val_scaled)[:, 1])\n",
        "plt.plot(fpr, tpr, label=f\"ROC Curve (AUC = {roc_auc:.2f})\")\n",
        "plt.xlabel('False Positive Rate')\n",
        "plt.ylabel('True Positive Rate')\n",
        "plt.title('ROC Curve')\n",
        "plt.legend()\n",
        "plt.show()"
      ],
      "metadata": {
        "id": "8QgIgqBVKa3v"
      },
      "execution_count": null,
      "outputs": []
    },
    {
      "cell_type": "code",
      "source": [
        "# Step 9: Test Set Evaluation\n",
        "test_X = test_data.drop(columns=['Target'])\n",
        "test_y = test_data['Target']\n",
        "\n",
        "test_X_scaled = scaler.transform(test_X)\n",
        "test_predictions = rf_model.predict(test_X_scaled)"
      ],
      "metadata": {
        "id": "fVceVdn4Ka7H"
      },
      "execution_count": null,
      "outputs": []
    },
    {
      "cell_type": "code",
      "source": [
        "print(\"Test Set Classification Report:\\n\", classification_report(test_y, test_predictions))"
      ],
      "metadata": {
        "id": "fxi8zUeRKiSe"
      },
      "execution_count": null,
      "outputs": []
    },
    {
      "cell_type": "code",
      "source": [
        "import joblib\n",
        "joblib.dump(rf_model, 'loan_default_model.pkl')\n",
        "joblib.dump(scaler, 'scaler.pkl')\n"
      ],
      "metadata": {
        "id": "7OpIffZGKiV3"
      },
      "execution_count": null,
      "outputs": []
    },
    {
      "cell_type": "code",
      "source": [],
      "metadata": {
        "id": "NGxSUNmOPqt8"
      },
      "execution_count": null,
      "outputs": []
    },
    {
      "cell_type": "code",
      "source": [],
      "metadata": {
        "id": "vdVSYlN4Pqw8"
      },
      "execution_count": null,
      "outputs": []
    },
    {
      "cell_type": "code",
      "source": [
        "import pandas as pd\n",
        "import numpy as np\n",
        "import matplotlib.pyplot as plt\n",
        "import seaborn as sns\n",
        "from sklearn.model_selection import train_test_split, GridSearchCV\n",
        "from sklearn.preprocessing import StandardScaler, LabelEncoder\n",
        "from sklearn.ensemble import RandomForestClassifier\n",
        "from sklearn.metrics import classification_report, confusion_matrix, roc_auc_score, roc_curve\n",
        "from imblearn.over_sampling import SMOTE\n",
        "import joblib\n",
        "\n",
        "# Step 1: Load Data\n",
        "# Upload files to Colab and provide correct file paths\n",
        "#from google.colab import files\n",
        "#uploaded = files.upload()\n",
        "\n",
        "train_file = '/content/sample_data/data/test_data.xlsx'  # Update with actual file name\n",
        "test_file = '/content/sample_data/data/train_data.xlsx'    # Update with actual file name\n",
        "\n",
        "train_data = pd.read_excel(train_file)\n",
        "test_data = pd.read_excel(test_file)\n",
        "\n",
        "# Step 2: Exploratory Data Analysis (EDA)\n",
        "# Basic Info\n",
        "print(\"Training Data Overview:\")\n",
        "print(train_data.info())\n",
        "print(\"\\nTest Data Overview:\")\n",
        "print(test_data.info())\n",
        "\n",
        "# Checking for missing values\n",
        "print(\"\\nMissing Values in Training Data:\")\n",
        "print(train_data.isnull().sum())\n",
        "\n",
        "# Target Variable Distribution\n",
        "if 'loan_status' in train_data.columns:\n",
        "    sns.countplot(x='loan_status', data=train_data)\n",
        "    plt.title('Loan Status Distribution')\n",
        "    plt.show()\n",
        "else:\n",
        "    print(\"Error: 'loan_status' column not found in the dataset.\")\n",
        "\n",
        "# Step 3: Data Preprocessing\n",
        "# Handle missing values\n",
        "train_data.fillna(train_data.median(numeric_only=True), inplace=True)\n",
        "test_data.fillna(test_data.median(numeric_only=True), inplace=True)\n",
        "\n",
        "# Encode categorical variables\n",
        "categorical_cols = train_data.select_dtypes(include=['object']).columns\n",
        "label_encoders = {}\n",
        "\n",
        "for col in categorical_cols:\n",
        "    le = LabelEncoder()\n",
        "    # Fit on the combined unique values from both train and test data\n",
        "    le.fit(pd.concat([train_data[col], test_data[col]], ignore_index=True).astype(str).unique())\n",
        "    train_data[col] = le.transform(train_data[col].astype(str))\n",
        "    if col in test_data.columns:\n",
        "        test_data[col] = le.transform(test_data[col].astype(str))\n",
        "    label_encoders[col] = le\n",
        "\n",
        "# Feature Engineering\n",
        "# Convert transaction_date to datetime and extract features\n",
        "for df in [train_data, test_data]:\n",
        "    if 'transaction_date' in df.columns:\n",
        "        df['transaction_date'] = pd.to_datetime(df['transaction_date'])\n",
        "        df['transaction_month'] = df['transaction_date'].dt.month\n",
        "        df['days_since_transaction'] = (pd.Timestamp.now() - df['transaction_date']).dt.days\n",
        "        df.drop('transaction_date', axis=1, inplace=True)\n",
        "\n",
        "# Create debt-to-income ratio\n",
        "for df in [train_data, test_data]:\n",
        "    if 'loan_amnt' in df.columns and 'annual_inc' in df.columns:\n",
        "        df['debt_to_income'] = df['loan_amnt'] / (df['annual_inc'] + 1e-6)\n",
        "\n",
        "# Separate features and target\n",
        "X = train_data.drop(columns=['loan_status', 'customer_id'])\n",
        "y = train_data['loan_status']\n",
        "\n",
        "# Step 4: Handle class imbalance\n",
        "smote = SMOTE(random_state=42)\n",
        "X_resampled, y_resampled = smote.fit_resample(X, y)\n",
        "\n",
        "# Step 5: Split data\n",
        "X_train, X_val, y_train, y_val = train_test_split(X_resampled, y_resampled, test_size=0.2, random_state=42)\n",
        "\n",
        "# Step 6: Feature Scaling\n",
        "scaler = StandardScaler()\n",
        "X_train_scaled = scaler.fit_transform(X_train)\n",
        "X_val_scaled = scaler.transform(X_val)\n",
        "\n",
        "# Step 7: Model Building\n",
        "rf_model = RandomForestClassifier(random_state=42)\n",
        "rf_model.fit(X_train_scaled, y_train)\n",
        "\n",
        "# Step 8: Model Evaluation\n",
        "val_predictions = rf_model.predict(X_val_scaled)\n",
        "print(\"Classification Report:\\n\", classification_report(y_val, val_predictions))\n",
        "\n",
        "# ROC-AUC\n",
        "roc_auc = roc_auc_score(y_val, rf_model.predict_proba(X_val_scaled)[:, 1])\n",
        "print(\"ROC-AUC Score:\", roc_auc)\n"
      ],
      "metadata": {
        "colab": {
          "base_uri": "https://localhost:8080/",
          "height": 1000
        },
        "id": "iffvwVtIPq0c",
        "outputId": "acf3f89f-1476-4211-d549-a125900a87ce"
      },
      "execution_count": null,
      "outputs": [
        {
          "output_type": "stream",
          "name": "stdout",
          "text": [
            "Training Data Overview:\n",
            "<class 'pandas.core.frame.DataFrame'>\n",
            "RangeIndex: 8455 entries, 0 to 8454\n",
            "Data columns (total 17 columns):\n",
            " #   Column               Non-Null Count  Dtype         \n",
            "---  ------               --------------  -----         \n",
            " 0   customer_id          8455 non-null   int64         \n",
            " 1   transaction_date     8455 non-null   datetime64[ns]\n",
            " 2   sub_grade            8455 non-null   object        \n",
            " 3   term                 8455 non-null   object        \n",
            " 4   home_ownership       8455 non-null   object        \n",
            " 5   cibil_score          8455 non-null   int64         \n",
            " 6   total_no_of_acc      8455 non-null   int64         \n",
            " 7   annual_inc           8455 non-null   float64       \n",
            " 8   int_rate             8455 non-null   float64       \n",
            " 9   purpose              8455 non-null   object        \n",
            " 10  loan_amnt            8455 non-null   int64         \n",
            " 11  application_type     8455 non-null   object        \n",
            " 12  installment          8455 non-null   float64       \n",
            " 13  verification_status  8455 non-null   object        \n",
            " 14  account_bal          8455 non-null   int64         \n",
            " 15  emp_length           8455 non-null   int64         \n",
            " 16  loan_status          8455 non-null   int64         \n",
            "dtypes: datetime64[ns](1), float64(3), int64(7), object(6)\n",
            "memory usage: 1.1+ MB\n",
            "None\n",
            "\n",
            "Test Data Overview:\n",
            "<class 'pandas.core.frame.DataFrame'>\n",
            "RangeIndex: 113705 entries, 0 to 113704\n",
            "Data columns (total 17 columns):\n",
            " #   Column               Non-Null Count   Dtype         \n",
            "---  ------               --------------   -----         \n",
            " 0   customer_id          113705 non-null  int64         \n",
            " 1   transaction_date     113705 non-null  datetime64[ns]\n",
            " 2   sub_grade            113705 non-null  object        \n",
            " 3   term                 113705 non-null  object        \n",
            " 4   home_ownership       113705 non-null  object        \n",
            " 5   cibil_score          113705 non-null  int64         \n",
            " 6   total_no_of_acc      113705 non-null  int64         \n",
            " 7   annual_inc           113705 non-null  float64       \n",
            " 8   int_rate             113705 non-null  float64       \n",
            " 9   purpose              113705 non-null  object        \n",
            " 10  loan_amnt            113705 non-null  int64         \n",
            " 11  application_type     113705 non-null  object        \n",
            " 12  installment          113705 non-null  float64       \n",
            " 13  verification_status  113705 non-null  object        \n",
            " 14  account_bal          113705 non-null  int64         \n",
            " 15  emp_length           113705 non-null  int64         \n",
            " 16  loan_status          113705 non-null  int64         \n",
            "dtypes: datetime64[ns](1), float64(3), int64(7), object(6)\n",
            "memory usage: 14.7+ MB\n",
            "None\n",
            "\n",
            "Missing Values in Training Data:\n",
            "customer_id            0\n",
            "transaction_date       0\n",
            "sub_grade              0\n",
            "term                   0\n",
            "home_ownership         0\n",
            "cibil_score            0\n",
            "total_no_of_acc        0\n",
            "annual_inc             0\n",
            "int_rate               0\n",
            "purpose                0\n",
            "loan_amnt              0\n",
            "application_type       0\n",
            "installment            0\n",
            "verification_status    0\n",
            "account_bal            0\n",
            "emp_length             0\n",
            "loan_status            0\n",
            "dtype: int64\n"
          ]
        },
        {
          "output_type": "display_data",
          "data": {
            "text/plain": [
              "<Figure size 640x480 with 1 Axes>"
            ],
            "image/png": "[encoded data removed]"
          },
          "metadata": {}
        },
        {
          "output_type": "stream",
          "name": "stdout",
          "text": [
            "Classification Report:\n",
            "               precision    recall  f1-score   support\n",
            "\n",
            "           0       0.76      0.71      0.73      1099\n",
            "           1       0.72      0.77      0.74      1061\n",
            "\n",
            "    accuracy                           0.74      2160\n",
            "   macro avg       0.74      0.74      0.74      2160\n",
            "weighted avg       0.74      0.74      0.74      2160\n",
            "\n",
            "ROC-AUC Score: 0.8203889406786565\n"
          ]
        }
      ]
    },
    {
      "cell_type": "code",
      "source": [],
      "metadata": {
        "id": "PuewRFoaRuYv"
      },
      "execution_count": null,
      "outputs": []
    },
    {
      "cell_type": "code",
      "source": [],
      "metadata": {
        "id": "dz1a8kCeRuiv"
      },
      "execution_count": null,
      "outputs": []
    },
    {
      "cell_type": "markdown",
      "source": [
        "\n",
        "\n",
        "# model 2\n"
      ],
      "metadata": {
        "id": "PxrDIeIWRvIR"
      }
    },
    {
      "cell_type": "code",
      "source": [
        "import pandas as pd\n",
        "import numpy as np\n",
        "import matplotlib.pyplot as plt\n",
        "import seaborn as sns\n",
        "from sklearn.model_selection import train_test_split, GridSearchCV\n",
        "from sklearn.preprocessing import StandardScaler, LabelEncoder\n",
        "from sklearn.metrics import classification_report, confusion_matrix, roc_auc_score, roc_curve\n",
        "from imblearn.over_sampling import SMOTE\n",
        "from xgboost import XGBClassifier\n",
        "import joblib\n",
        "\n",
        "# Step 1: Load Data\n",
        "# Upload files to Colab and provide correct file paths\n",
        "\n",
        "train_file = '/content/sample_data/data/test_data.xlsx'  # Update with actual file name\n",
        "test_file = '/content/sample_data/data/train_data.xlsx'    # Update with actual file name\n",
        "\n",
        "train_data = pd.read_excel(train_file)\n",
        "test_data = pd.read_excel(test_file)\n",
        "\n",
        "# Step 2: Exploratory Data Analysis (EDA)\n",
        "# Basic Info\n",
        "print(\"Training Data Overview:\")\n",
        "print(train_data.info())\n",
        "print(\"\\nTest Data Overview:\")\n",
        "print(test_data.info())\n",
        "\n",
        "# Checking for missing values\n",
        "print(\"\\nMissing Values in Training Data:\")\n",
        "print(train_data.isnull().sum())\n",
        "\n",
        "# Target Variable Distribution\n",
        "if 'loan_status' in train_data.columns:\n",
        "    sns.countplot(x='loan_status', data=train_data)\n",
        "    plt.title('Loan Status Distribution')\n",
        "    plt.show()\n",
        "else:\n",
        "    print(\"Error: 'loan_status' column not found in the dataset.\")\n",
        "\n",
        "# Step 3: Data Preprocessing\n",
        "# Handle missing values\n",
        "train_data.fillna(train_data.median(numeric_only=True), inplace=True)\n",
        "test_data.fillna(test_data.median(numeric_only=True), inplace=True)\n",
        "\n",
        "# Encode categorical variables\n",
        "categorical_cols = train_data.select_dtypes(include=['object']).columns\n",
        "label_encoders = {}\n",
        "\n",
        "for col in categorical_cols:\n",
        "    le = LabelEncoder()\n",
        "    # Fit on the combined unique values from both train and test data\n",
        "    le.fit(pd.concat([train_data[col], test_data[col]], ignore_index=True).astype(str).unique())\n",
        "    train_data[col] = le.transform(train_data[col].astype(str))\n",
        "    # Check if the column exists in test_data before transforming\n",
        "    if col in test_data.columns:\n",
        "        # Handle unknown values in test data\n",
        "        test_data[col] = test_data[col].astype(str).map(lambda s: le.transform([s])[0] if s in le.classes_ else -1)\n",
        "    label_encoders[col] = le\n",
        "\n",
        "# Feature Engineering\n",
        "# Convert transaction_date to datetime and extract features\n",
        "for df in [train_data, test_data]:\n",
        "    if 'transaction_date' in df.columns:\n",
        "        df['transaction_date'] = pd.to_datetime(df['transaction_date'])\n",
        "        df['transaction_month'] = df['transaction_date'].dt.month\n",
        "        df['days_since_transaction'] = (pd.Timestamp.now() - df['transaction_date']).dt.days\n",
        "        df.drop('transaction_date', axis=1, inplace=True)\n",
        "\n",
        "# Create debt-to-income ratio\n",
        "for df in [train_data, test_data]:\n",
        "    if 'loan_amnt' in df.columns and 'annual_inc' in df.columns:\n",
        "        df['debt_to_income'] = df['loan_amnt'] / (df['annual_inc'] + 1e-6)\n",
        "\n",
        "# Separate features and target\n",
        "X = train_data.drop(columns=['loan_status', 'customer_id'])\n",
        "y = train_data['loan_status']\n",
        "\n",
        "# Step 4: Handle class imbalance\n",
        "smote = SMOTE(random_state=42)\n",
        "X_resampled, y_resampled = smote.fit_resample(X, y)\n",
        "\n",
        "# Step 5: Split data\n",
        "X_train, X_val, y_train, y_val = train_test_split(X_resampled, y_resampled, test_size=0.2, random_state=42)\n",
        "\n",
        "# Step 6: Feature Scaling\n",
        "scaler = StandardScaler()\n",
        "X_train_scaled = scaler.fit_transform(X_train)\n",
        "X_val_scaled = scaler.transform(X_val)\n",
        "\n",
        "# Step 7: Model Building with XGBoost\n",
        "xgb_model = XGBClassifier(random_state=42, use_label_encoder=False, eval_metric='logloss')\n",
        "\n",
        "# Hyperparameter Tuning with GridSearchCV\n",
        "param_grid = {\n",
        "    'n_estimators': [100, 200],\n",
        "    'max_depth': [3, 5, 7],\n",
        "    'learning_rate': [0.01, 0.1, 0.2],\n",
        "    'subsample': [0.8, 1.0],\n",
        "    'colsample_bytree': [0.8, 1.0]\n",
        "}\n",
        "\n",
        "grid_search = GridSearchCV(estimator=xgb_model, param_grid=param_grid, cv=3, scoring='roc_auc', verbose=2, n_jobs=-1)\n",
        "grid_search.fit(X_train_scaled, y_train)\n",
        "\n",
        "# Best Model\n",
        "best_xgb_model = grid_search.best_estimator_\n",
        "print(\"Best Parameters:\", grid_search.best_params_)\n",
        "\n",
        "# Step 8: Model Evaluation\n",
        "val_predictions = best_xgb_model.predict(X_val_scaled)\n",
        "print(\"Classification Report:\\n\", classification_report(y_val, val_predictions))\n",
        "\n",
        "# ROC-AUC\n",
        "roc_auc = roc_auc_score(y_val, best_xgb_model.predict_proba(X_val_scaled)[:, 1])\n",
        "print(\"ROC-AUC Score:\", roc_auc)\n",
        "\n",
        "fpr, tpr, _ = roc_curve(y_val, best_xgb_model.predict_proba(X_val_scaled)[:, 1])\n",
        "plt.plot(fpr, tpr, label=f\"ROC Curve (AUC = {roc_auc:.2f})\")\n",
        "plt.xlabel('False Positive Rate')\n",
        "plt.ylabel('True Positive Rate')\n",
        "plt.title('ROC Curve')\n",
        "plt.legend()\n",
        "plt.show()\n",
        "\n",
        "# Step 9: Test Set Evaluation\n",
        "if 'loan_status' in test_data.columns:\n",
        "    test_X = test_data.drop(columns=['loan_status', 'customer_id'])\n",
        "    test_y = test_data['loan_status']\n",
        "else:\n",
        "    test_X = test_data.drop(columns=['customer_id'])\n",
        "    test_y = None\n",
        "\n",
        "# Scale test set\n",
        "test_X_scaled = scaler.transform(test_X)\n",
        "\n",
        "test_predictions = best_xgb_model.predict(test_X_scaled)\n",
        "if test_y is not None:\n",
        "    print(\"Test Set Classification Report:\\n\", classification_report(test_y, test_predictions))"
      ],
      "metadata": {
        "colab": {
          "base_uri": "https://localhost:8080/",
          "height": 1000
        },
        "id": "0t5gqkI8Rz7-",
        "outputId": "ad3c7396-ddcc-44b4-99dc-30662dc57c52"
      },
      "execution_count": null,
      "outputs": [
        {
          "output_type": "stream",
          "name": "stdout",
          "text": [
            "Training Data Overview:\n",
            "<class 'pandas.core.frame.DataFrame'>\n",
            "RangeIndex: 8455 entries, 0 to 8454\n",
            "Data columns (total 17 columns):\n",
            " #   Column               Non-Null Count  Dtype         \n",
            "---  ------               --------------  -----         \n",
            " 0   customer_id          8455 non-null   int64         \n",
            " 1   transaction_date     8455 non-null   datetime64[ns]\n",
            " 2   sub_grade            8455 non-null   object        \n",
            " 3   term                 8455 non-null   object        \n",
            " 4   home_ownership       8455 non-null   object        \n",
            " 5   cibil_score          8455 non-null   int64         \n",
            " 6   total_no_of_acc      8455 non-null   int64         \n",
            " 7   annual_inc           8455 non-null   float64       \n",
            " 8   int_rate             8455 non-null   float64       \n",
            " 9   purpose              8455 non-null   object        \n",
            " 10  loan_amnt            8455 non-null   int64         \n",
            " 11  application_type     8455 non-null   object        \n",
            " 12  installment          8455 non-null   float64       \n",
            " 13  verification_status  8455 non-null   object        \n",
            " 14  account_bal          8455 non-null   int64         \n",
            " 15  emp_length           8455 non-null   int64         \n",
            " 16  loan_status          8455 non-null   int64         \n",
            "dtypes: datetime64[ns](1), float64(3), int64(7), object(6)\n",
            "memory usage: 1.1+ MB\n",
            "None\n",
            "\n",
            "Test Data Overview:\n",
            "<class 'pandas.core.frame.DataFrame'>\n",
            "RangeIndex: 113705 entries, 0 to 113704\n",
            "Data columns (total 17 columns):\n",
            " #   Column               Non-Null Count   Dtype         \n",
            "---  ------               --------------   -----         \n",
            " 0   customer_id          113705 non-null  int64         \n",
            " 1   transaction_date     113705 non-null  datetime64[ns]\n",
            " 2   sub_grade            113705 non-null  object        \n",
            " 3   term                 113705 non-null  object        \n",
            " 4   home_ownership       113705 non-null  object        \n",
            " 5   cibil_score          113705 non-null  int64         \n",
            " 6   total_no_of_acc      113705 non-null  int64         \n",
            " 7   annual_inc           113705 non-null  float64       \n",
            " 8   int_rate             113705 non-null  float64       \n",
            " 9   purpose              113705 non-null  object        \n",
            " 10  loan_amnt            113705 non-null  int64         \n",
            " 11  application_type     113705 non-null  object        \n",
            " 12  installment          113705 non-null  float64       \n",
            " 13  verification_status  113705 non-null  object        \n",
            " 14  account_bal          113705 non-null  int64         \n",
            " 15  emp_length           113705 non-null  int64         \n",
            " 16  loan_status          113705 non-null  int64         \n",
            "dtypes: datetime64[ns](1), float64(3), int64(7), object(6)\n",
            "memory usage: 14.7+ MB\n",
            "None\n",
            "\n",
            "Missing Values in Training Data:\n",
            "customer_id            0\n",
            "transaction_date       0\n",
            "sub_grade              0\n",
            "term                   0\n",
            "home_ownership         0\n",
            "cibil_score            0\n",
            "total_no_of_acc        0\n",
            "annual_inc             0\n",
            "int_rate               0\n",
            "purpose                0\n",
            "loan_amnt              0\n",
            "application_type       0\n",
            "installment            0\n",
            "verification_status    0\n",
            "account_bal            0\n",
            "emp_length             0\n",
            "loan_status            0\n",
            "dtype: int64\n"
          ]
        },
        {
          "output_type": "display_data",
          "data": {
            "text/plain": [
              "<Figure size 640x480 with 1 Axes>"
            ],
            "image/png": "[encoded data removed]"
          },
          "metadata": {}
        },
        {
          "output_type": "stream",
          "name": "stdout",
          "text": [
            "Fitting 3 folds for each of 72 candidates, totalling 216 fits\n"
          ]
        },
        {
          "output_type": "stream",
          "name": "stderr",
          "text": [
            "/usr/local/lib/python3.10/dist-packages/xgboost/core.py:158: UserWarning: [10:38:10] WARNING: /workspace/src/learner.cc:740: \n",
            "Parameters: { \"use_label_encoder\" } are not used.\n",
            "\n",
            "  warnings.warn(smsg, UserWarning)\n"
          ]
        },
        {
          "output_type": "stream",
          "name": "stdout",
          "text": [
            "Best Parameters: {'colsample_bytree': 0.8, 'learning_rate': 0.1, 'max_depth': 7, 'n_estimators': 100, 'subsample': 0.8}\n",
            "Classification Report:\n",
            "               precision    recall  f1-score   support\n",
            "\n",
            "           0       0.77      0.70      0.73      1099\n",
            "           1       0.72      0.78      0.75      1061\n",
            "\n",
            "    accuracy                           0.74      2160\n",
            "   macro avg       0.74      0.74      0.74      2160\n",
            "weighted avg       0.74      0.74      0.74      2160\n",
            "\n",
            "ROC-AUC Score: 0.8240144626380421\n"
          ]
        },
        {
          "output_type": "display_data",
          "data": {
            "text/plain": [
              "<Figure size 640x480 with 1 Axes>"
            ],
            "image/png": "[encoded data removed]"
          },
          "metadata": {}
        },
        {
          "output_type": "stream",
          "name": "stdout",
          "text": [
            "Test Set Classification Report:\n",
            "               precision    recall  f1-score   support\n",
            "\n",
            "           0       0.41      0.51      0.46     29689\n",
            "           1       0.81      0.74      0.78     84016\n",
            "\n",
            "    accuracy                           0.68    113705\n",
            "   macro avg       0.61      0.63      0.62    113705\n",
            "weighted avg       0.71      0.68      0.69    113705\n",
            "\n"
          ]
        }
      ]
    },
    {
      "cell_type": "code",
      "source": [],
      "metadata": {
        "id": "5HOypR-XR0AG"
      },
      "execution_count": null,
      "outputs": []
    }
  ]
}